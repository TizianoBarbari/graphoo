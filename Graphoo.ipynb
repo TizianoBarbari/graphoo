{
  "nbformat": 4,
  "nbformat_minor": 0,
  "metadata": {
    "colab": {
      "name": "Graphoo.ipynb",
      "provenance": [],
      "collapsed_sections": [],
      "authorship_tag": "ABX9TyOsEpQJhVZEst2auyvoGnXV",
      "include_colab_link": true
    },
    "kernelspec": {
      "name": "python3",
      "display_name": "Python 3"
    }
  },
  "cells": [
    {
      "cell_type": "markdown",
      "metadata": {
        "id": "view-in-github",
        "colab_type": "text"
      },
      "source": [
        "<a href=\"https://colab.research.google.com/github/TizianoBarbari/graphoo/blob/main/Graphoo.ipynb\" target=\"_parent\"><img src=\"https://colab.research.google.com/assets/colab-badge.svg\" alt=\"Open In Colab\"/></a>"
      ]
    },
    {
      "cell_type": "code",
      "metadata": {
        "id": "c3F7l3S_oaoX"
      },
      "source": [
        "class Graph_Element:\n",
        "    '''\n",
        "    This can be either a node or an edge!\n",
        "    Both types of objects hold some data and have neighbors. More precisely:\n",
        "\n",
        "    The world of an EDGE consists exactly of its neighbors (NODES) plus its data.\n",
        "    The world of a  NODE consists exactly of its neighbors (EDGES) plus its data.\n",
        "    '''\n",
        "    __slots__ = '_data', '_neighbors'\n",
        "\n",
        "    def __init__(self, neighbors = set(), data = None):\n",
        "        self._data = data\n",
        "        self._neighbors = neighbors\n",
        "\n",
        "    def get_data(self):\n",
        "        yield self._data\n",
        "\n",
        "    def get_neighbors(self):\n",
        "        yield self._neighbors"
      ],
      "execution_count": 1,
      "outputs": []
    },
    {
      "cell_type": "code",
      "metadata": {
        "id": "Ck6ZyEIiB7pm"
      },
      "source": [
        "from collections import defaultdict\n",
        "\n",
        "class Graph:\n",
        "    __slots__ = '_nodes', '_edges', '_node_count', '_edge_count'\n",
        "    \n",
        "    def __init__(self, directed = False):\n",
        "        '''\n",
        "        Create an empty graph. By default, it is undirected.\n",
        "\n",
        "        This is a first basic construction.\n",
        "        To do:\n",
        "            - directed, multigraph...\n",
        "            - make it more symmetrical in edges and node\n",
        "            - algorithms\n",
        "            - draw\n",
        "        '''\n",
        "\n",
        "        # Graph elements are mappings \"integer_index: actual_object\".\n",
        "        #\n",
        "        # For example:\n",
        "        # self._nodes == {2: Node_2, 7: Node_7, 3: Node_3, ...}\n",
        "        \n",
        "        self._nodes = defaultdict(Graph_Element)\n",
        "        self._edges = defaultdict(Graph_Element)\n",
        "        \n",
        "        # Keep track of the number of graph elements\n",
        "        self._node_count = 0\n",
        "        self._edge_count = 0\n",
        "\n",
        "    def node_count(self):\n",
        "        '''\n",
        "        Returns the number of the nodes\n",
        "        '''\n",
        "        return self._node_count\n",
        "\n",
        "    def edge_count(self):\n",
        "        '''\n",
        "        Returns the number of the edges\n",
        "        '''\n",
        "        return self._edge_count\n",
        "    \n",
        "    def nodes(self):\n",
        "        '''\n",
        "        Returns the graph's node indexes (as an iterator)\n",
        "        '''\n",
        "        return iter(self._nodes)\n",
        "\n",
        "    def edges(self):\n",
        "        '''\n",
        "        Returns the graph's edge indexes (as an iterator)\n",
        "        '''\n",
        "        return iter(self._edges)\n",
        "\n",
        "    def which_nodes(self, data):\n",
        "        '''\n",
        "        Returns the keys corresponding to the nodes that contain the given data.\n",
        "        Returns None if no such data is found in any node.\n",
        "        '''\n",
        "        return (node_key for node_key in self._nodes if self._nodes[node_key]._data == data)\n",
        "        # result = set()\n",
        "        # for node_key in self.nodes:\n",
        "        #     if self._nodes[node_key]._data == data:\n",
        "        #         result.add({node_key})\n",
        "        # return result\n",
        "        # if result else None\n",
        "\n",
        "    def which_edges(self, data):\n",
        "        '''\n",
        "        Returns the key(s) corresponding to the edge(s) that contain(s) the given data.\n",
        "        Returns None if no such data is found in any edge.\n",
        "        '''\n",
        "        result = set()\n",
        "        for edge_key in self.edges:\n",
        "            if edges[edge_key]._data == data:\n",
        "                result.add({edge_key})\n",
        "        return result\n",
        "        # if result else None\n",
        "\n",
        "    def which_elements(self, data):\n",
        "        '''\n",
        "        Returns the key(s) corresponding to the Edge(s) or Node(s) that contain(s) the given data.\n",
        "        Returns None if no such data is found in any edge or node.\n",
        "        '''\n",
        "        return self.which_edges(data).union(self.which_nodes(data))\n",
        "\n",
        "    def get_edge_between(self, node_index_1, node_index_2, data = False):\n",
        "        '''\n",
        "        Returns the edge index of the edge (between_this_node_index, and_this_node_index)\n",
        "        Returns None if no such edge exists.\n",
        "        '''\n",
        "        if node_index_1 in self._nodes:\n",
        "          \n",
        "            # if node_index_1 == node_index_2, we look for a loop\n",
        "            if node_index_1 == node_index_2:\n",
        "                first_neighbors = self._nodes[node_index_1]._neighbors\n",
        "                if first_neighbors:\n",
        "                    for edge in first_neighbors:\n",
        "                        if self._edges[edge]._neighbors == {node_index_1}:\n",
        "                            if data:\n",
        "                                return edge, self._edges[edge]._data\n",
        "                            return edge\n",
        "                return None\n",
        "                \n",
        "            else:\n",
        "                first_neighbors = self._nodes[node_index_1]._neighbors\n",
        "                second_neighbors = self.incident_edges(node_index_2)\n",
        "                if second_neighbors:\n",
        "                    common_neighbors = first_neighbors.intersection(second_neighbors)\n",
        "                    if common_neighbors:\n",
        "                        edge = common_neighbors.pop()\n",
        "                        if data:\n",
        "                            return edge, self._edges[edge]._data\n",
        "                        return edge\n",
        "                    else:\n",
        "                        return None\n",
        "        return None\n",
        "\n",
        "    def degree_node(self, node_index):\n",
        "        '''\n",
        "        Returns the number of edges incident on the node corresponding to node_index.\n",
        "        '''\n",
        "        node = self._nodes.get(node_index, None)\n",
        "        if node:\n",
        "            return len(self._nodes[node]._neighbors)\n",
        "        else:\n",
        "            return 0\n",
        "        # return len(self.incident_edges(node_index))\n",
        "\n",
        "    def degree_graph(self):\n",
        "        '''\n",
        "        Returns the degree of the graph, i.e. the maximum degree of its nodes.\n",
        "        (Should this be stored as self._degree and updated dynamically?)\n",
        "        '''\n",
        "        return max(self.degree_node(node_index) for node_index in self._nodes.copy())\n",
        "        # return max(self.degree_node(node_index) for node_index in list(self._nodes))\n",
        "        # return max(self.degree_node(node_index) for node_index in tuple(self._nodes))\n",
        "\n",
        "    def incident_edges(self, node_index):\n",
        "        '''\n",
        "        Returns the set of edges incident to node_index.\n",
        "        '''\n",
        "        node = self._nodes.get(node_index, None)\n",
        "        if node:\n",
        "            return node._neighbors\n",
        "        else:\n",
        "            return None\n",
        "\n",
        "    def extremal_nodes(self, edge_index):\n",
        "        '''\n",
        "        Returns the nodes adjecent to the given edge_index.\n",
        "        '''\n",
        "        edge = self._edges.get(node_index, None)\n",
        "        if edge:\n",
        "            return edge._neighbors\n",
        "        else:\n",
        "            return None\n",
        "\n",
        "    def adjacent_nodes(self, node_index):\n",
        "        '''\n",
        "        Returns the nodes (node indexes) adjacent to a given node (node index).\n",
        "        '''\n",
        "\n",
        "        adjacent_edges = self.incident_edges(node_index)\n",
        "        if adjacent_edges:\n",
        "            result = set()\n",
        "            for edge_index in adjacent_edges:\n",
        "                result = result.union(self._edges.get(edge_index)._neighbors, set()).difference({node_index})\n",
        "            return result\n",
        "        else:\n",
        "            return None\n",
        "\n",
        "    def get_available_node_index(self):\n",
        "        '''\n",
        "        Returns a free node index.\n",
        "        At every moment, if the node count is N, at least one of the N + 1 integers 0, 1, ..., N is free\n",
        "        '''\n",
        "        return set(range(1, self._node_count + 2)).difference(self._nodes).pop()\n",
        "\n",
        "    def get_available_edge_index(self):\n",
        "        '''\n",
        "        Returns a free node index.\n",
        "        At every moment, if the edge count is M, at least one of the M + 1 integers 0, 1, ..., M is free\n",
        "        '''\n",
        "        return set(range(1, self._edge_count + 2)).difference(self._edges).pop()\n",
        "\n",
        "    def insert_nodes(self, data, at_indexes, warn_if_index_exists = True):\n",
        "        '''\n",
        "        A version of self.insert_node for inserting multiple nodes.\n",
        "        '''\n",
        "        return [self.insert_node(data = data, at_index = at_index, warn_if_index_exists = True) for (data, at_index) in zip(data, at_indexes)]\n",
        "\n",
        "    def insert_node(self, data = None, at_index = None, warn_if_index_exists = True):\n",
        "        '''\n",
        "        If at_index is None, as is probable, an index is chosen \"arbitrarily\" by Python set pop() method, via self.get_available_node_index.\n",
        "        A non-None at_index occurs, for example, when self.insert_edge is called.\n",
        "        The node_index is finally returned.\n",
        "        '''\n",
        "\n",
        "        # If an index is provided and taken, (warn and) return\n",
        "        if at_index and at_index in self._nodes:\n",
        "            if warn_if_index_exists:\n",
        "                warning = f\"Node index ({at_index}) is occupied\"\n",
        "                node_content = self._nodes[at_index]._data\n",
        "                if node_content is None:\n",
        "                    warning += \" by en empty node.\"\n",
        "                else:\n",
        "                    warning += f\" by (a node containing) the following data: {node_content}.\"\n",
        "                print(warning)\n",
        "            # return\n",
        "            return at_index\n",
        "\n",
        "        else:\n",
        "            # Otherwise, create a new node and update the count\n",
        "            new_node = Graph_Element(neighbors = set(), data = data)\n",
        "            self._node_count += 1\n",
        "\n",
        "            # If an index is provided by the user and is not taken, it is \n",
        "            if at_index:\n",
        "                self._nodes[at_index] = new_node\n",
        "                return at_index\n",
        "\n",
        "            # Otherwise, let Python choose an available index in range(1, len(self._nodes) + 2), via self.get_available_node_index\n",
        "            else:\n",
        "                new_node_index = self.get_available_node_index()\n",
        "                self._nodes[new_node_index] = new_node\n",
        "                return new_node_index\n",
        "\n",
        "    def insert_edge(self, node_index_1, node_index_2, data = None,\n",
        "                            update_data = True, add_missing_endpoints = True):\n",
        "        '''\n",
        "        Inserts a new Edge between node_index_1 and node_index_1, possibly with data 'data'.\n",
        "        '''\n",
        "        # Are edges between non-existing nodes allowed?\n",
        "        # Are multiple edges allowed? (Multigraph)\n",
        "\n",
        "        # Create missing nodes\n",
        "        missing_1 = node_index_1 not in self._nodes\n",
        "        if missing_1:\n",
        "            self.insert_node(data = None, at_index = node_index_1)\n",
        "\n",
        "        missing_2 = node_index_2 not in self._nodes\n",
        "        if missing_2:\n",
        "            self.insert_node(data = None, at_index = node_index_2)\n",
        "\n",
        "        # If either node was previously missing, the edge cannot exist; create it (this also sets the two node indexes as its neighbors):\n",
        "        if missing_1 or missing_2:\n",
        "            return self._create_edge(node_index_1, node_index_2, data)\n",
        "\n",
        "        else:\n",
        "            # If both nodes existed, the edge may or may not exist (if it didn't, edge_key will be None)\n",
        "            edge_key = self.get_edge_between(node_index_1, node_index_2)\n",
        "\n",
        "            # If the edge exists, either overwrite/update its data or leave it as is, then return the existing edge index\n",
        "            if edge_key is not None:\n",
        "                print(f\"An index exists ({edge_key}) for an edge between {node_index_1} and {node_index_2}.\")\n",
        "                if update_data:\n",
        "                    self._edges[edge_key]._data = data\n",
        "                    print(\"Edge data updated.\")\n",
        "                return edge_key\n",
        "\n",
        "            else:\n",
        "                # If the edge does not exist, create it (this also sets the two indexes as neighbors)\n",
        "                return self._create_edge(node_index_1, node_index_2, data)\n",
        "\n",
        "    def _create_edge(self, node_index_1, node_index_2, data):\n",
        "        '''\n",
        "        # Not for user's use: it can create multiple edges, because it **assumes that both nodes exists** #\n",
        "        This is called inside self.insert_edge and creates the desired edge.\n",
        "        '''\n",
        "        new_edge = Graph_Element({node_index_1, node_index_2}, data)\n",
        "\n",
        "        # get a random available index\n",
        "        new_edge_index = self.get_available_edge_index()\n",
        "\n",
        "        # add the new edge to the graph\n",
        "        self._edges[new_edge_index] = new_edge\n",
        "\n",
        "        # update the edge count\n",
        "        self._edge_count += 1\n",
        "\n",
        "        # set this edge as a neighbor of the two nodes\n",
        "        self._nodes[node_index_1]._neighbors.add(new_edge_index)\n",
        "        self._nodes[node_index_2]._neighbors.add(new_edge_index)\n",
        "\n",
        "        # return the new edge index\n",
        "        return new_edge_index\n",
        "\n",
        "    def delete_edge(self, node_index_1, node_index_2, but_leave_nodes = True):\n",
        "        '''\n",
        "        Deletes the edge between node_index_1 and node_index_2, if it exists.\n",
        "        '''\n",
        "        edge_index = self.get_edge_between(node_index_1, node_index_1)\n",
        "        if not edge_index:\n",
        "            print('Edge is missing.')\n",
        "            return\n",
        "\n",
        "        else:\n",
        "            self._nodes[node_index_1]._neighbors.remove(edge_index)\n",
        "            self._nodes[node_index_2]._neighbors.remove(edge_index)\n",
        "            del self._edges[edge_index]\n",
        "            self._edge_count -= 1\n",
        "\n",
        "    def delete_node(self, node_index, disconnect = True):\n",
        "        '''\n",
        "        Deletes the node corresponding to node_index.\n",
        "        '''\n",
        "        # The removal of a node may imply that edges are either removed (disconnect = True, by default)...\n",
        "        if disconnect:\n",
        "            for edge_index in self._nodes[node_index]._neighbors:\n",
        "                node_index_curr = self._edges[edge_index]._neighbors.difference({node_index})\n",
        "                if node_index_curr:\n",
        "                    self.delete_edge(node_index, node_index_curr.pop())\n",
        "            del self._nodes[node_index]\n",
        "            self._node_count -= 1\n",
        "\n",
        "        # ... or concatenated\n",
        "        else:\n",
        "            pass\n",
        "\n",
        "        return None\n",
        "\n",
        "    def list_nodes(self):\n",
        "        '''\n",
        "        Prints the nodes and their data.\n",
        "        '''\n",
        "        node_count = self._node_count\n",
        "        string = f\"{self._node_count}\"\n",
        "        string += \" NODE\" if node_count == 1 else \" NODES\"\n",
        "        print(\"#\" * (12 + int(node_count != 1)))\n",
        "        print(\"## \" + string + \" ##\")\n",
        "        print(\"#\" * (12 + int(node_count != 1)) + \"\\n\")\n",
        "        header = (\"Index\", \"Neighbors\", \"Data\")\n",
        "        print(f\"{header[0]:<9} {header[1]:<14} {header[2]:<20}\")\n",
        "        for node_index, node in self._nodes.items():\n",
        "            print(f\"{node_index:<10}{str(list(node._neighbors)):<15}{str(node._data):<20}\")\n",
        "\n",
        "    def list_edges(self):\n",
        "        '''\n",
        "        Prints the edges and their data.\n",
        "        '''\n",
        "        edge_count = self._edge_count\n",
        "        string = f\"{self._edge_count}\"\n",
        "        string += \" EDGE\" if edge_count == 1 else \" EDGES\"\n",
        "        print(\"#\" * (12 + int(edge_count != 1)))\n",
        "        print(\"## \" + string + \" ##\")\n",
        "        print(\"#\" * (12 + int(edge_count != 1)) + \"\\n\")\n",
        "        header = (\"Index\", \"Neighbors\", \"Data\")\n",
        "        print(f\"{header[0]:<9} {header[1]:<14} {header[2]:<20}\")\n",
        "        for edge_index, edge in self._edges.items():\n",
        "            print(f\"{edge_index:<10}{str(list(edge._neighbors)):<15}{str(edge._data):<20}\")\n",
        "\n",
        "    def list_elements(self):\n",
        "        '''\n",
        "        Prints the graph elements.\n",
        "        '''\n",
        "        self.list_nodes()\n",
        "        print()\n",
        "        self.list_edges()\n",
        "\n",
        "    # ALIASES\n",
        "    add_vertex = insert_vertex = add_node = insert_node\n",
        "    which_edge = which_edges\n",
        "    which_node = which_nodes\n",
        "    link_count = edge_count\n",
        "    vertex_count = node_count\n",
        "    list_all = list_elements"
      ],
      "execution_count": 2,
      "outputs": []
    },
    {
      "cell_type": "code",
      "metadata": {
        "colab": {
          "base_uri": "https://localhost:8080/"
        },
        "id": "3G4JQz2RFGM8",
        "outputId": "38fff5d9-f1e3-4f86-a8b7-dd48a8cb887c"
      },
      "source": [
        "# Methods available to the user thus far\n",
        "list(filter(lambda x: not x.startswith(\"_\"), dir(Graph)))"
      ],
      "execution_count": 3,
      "outputs": [
        {
          "output_type": "execute_result",
          "data": {
            "text/plain": [
              "['add_node',\n",
              " 'add_vertex',\n",
              " 'adjacent_nodes',\n",
              " 'degree_graph',\n",
              " 'degree_node',\n",
              " 'delete_edge',\n",
              " 'delete_node',\n",
              " 'edge_count',\n",
              " 'edges',\n",
              " 'extremal_nodes',\n",
              " 'get_available_edge_index',\n",
              " 'get_available_node_index',\n",
              " 'get_edge_between',\n",
              " 'incident_edges',\n",
              " 'insert_edge',\n",
              " 'insert_node',\n",
              " 'insert_nodes',\n",
              " 'insert_vertex',\n",
              " 'link_count',\n",
              " 'list_all',\n",
              " 'list_edges',\n",
              " 'list_elements',\n",
              " 'list_nodes',\n",
              " 'node_count',\n",
              " 'nodes',\n",
              " 'vertex_count',\n",
              " 'which_edge',\n",
              " 'which_edges',\n",
              " 'which_elements',\n",
              " 'which_node',\n",
              " 'which_nodes']"
            ]
          },
          "metadata": {
            "tags": []
          },
          "execution_count": 3
        }
      ]
    },
    {
      "cell_type": "markdown",
      "metadata": {
        "id": "9HuL4QByJkcR"
      },
      "source": [
        "CREATE A GRAPH"
      ]
    },
    {
      "cell_type": "code",
      "metadata": {
        "id": "tW2Xe1N8ZvJ4"
      },
      "source": [
        "g = Graph()"
      ],
      "execution_count": 4,
      "outputs": []
    },
    {
      "cell_type": "markdown",
      "metadata": {
        "id": "__GB8zoP2QjS"
      },
      "source": [
        "NODES"
      ]
    },
    {
      "cell_type": "code",
      "metadata": {
        "colab": {
          "base_uri": "https://localhost:8080/"
        },
        "id": "uMXb84_J2OQC",
        "outputId": "0274d4d5-2c59-40e9-d251-06a9409b1c7d"
      },
      "source": [
        "# add node\n",
        "g.insert_node(data = dict(weight = 3, activation = 1))"
      ],
      "execution_count": 5,
      "outputs": [
        {
          "output_type": "execute_result",
          "data": {
            "text/plain": [
              "1"
            ]
          },
          "metadata": {
            "tags": []
          },
          "execution_count": 5
        }
      ]
    },
    {
      "cell_type": "code",
      "metadata": {
        "colab": {
          "base_uri": "https://localhost:8080/"
        },
        "id": "4widbV7-ka52",
        "outputId": "a11922f5-67bf-4d55-c58f-f81f95d76d82"
      },
      "source": [
        "# add node at a particular node_index (probably performed by internal methods)\n",
        "g.insert_node(data = dict(weight = 3, activation = 9), at_index = 6)"
      ],
      "execution_count": 6,
      "outputs": [
        {
          "output_type": "execute_result",
          "data": {
            "text/plain": [
              "6"
            ]
          },
          "metadata": {
            "tags": []
          },
          "execution_count": 6
        }
      ]
    },
    {
      "cell_type": "code",
      "metadata": {
        "colab": {
          "base_uri": "https://localhost:8080/"
        },
        "id": "NU1KhLTV3jLD",
        "outputId": "560288de-5dba-420d-a83f-5778f8ed93ce"
      },
      "source": [
        "# use an alias as well\n",
        "g.add_node(data = dict(weight = 5, activation = 4))"
      ],
      "execution_count": 7,
      "outputs": [
        {
          "output_type": "execute_result",
          "data": {
            "text/plain": [
              "2"
            ]
          },
          "metadata": {
            "tags": []
          },
          "execution_count": 7
        }
      ]
    },
    {
      "cell_type": "code",
      "metadata": {
        "colab": {
          "base_uri": "https://localhost:8080/"
        },
        "id": "YmtCV_Kf8EpX",
        "outputId": "3d68189d-00fd-4447-e459-6af1a19596cd"
      },
      "source": [
        "# add empty node\n",
        "g.insert_node()"
      ],
      "execution_count": 8,
      "outputs": [
        {
          "output_type": "execute_result",
          "data": {
            "text/plain": [
              "3"
            ]
          },
          "metadata": {
            "tags": []
          },
          "execution_count": 8
        }
      ]
    },
    {
      "cell_type": "code",
      "metadata": {
        "colab": {
          "base_uri": "https://localhost:8080/"
        },
        "id": "1yfMDgCC1PMm",
        "outputId": "a2dc73c3-3995-4bf4-90fc-cea2442da16a"
      },
      "source": [
        "# if chosen index is occupied, no node is added\n",
        "g.add_node(data = dict(weight = 5, activation = 4), at_index = 3)"
      ],
      "execution_count": 9,
      "outputs": [
        {
          "output_type": "stream",
          "text": [
            "Node index (3) is occupied by en empty node.\n"
          ],
          "name": "stdout"
        },
        {
          "output_type": "execute_result",
          "data": {
            "text/plain": [
              "3"
            ]
          },
          "metadata": {
            "tags": []
          },
          "execution_count": 9
        }
      ]
    },
    {
      "cell_type": "code",
      "metadata": {
        "colab": {
          "base_uri": "https://localhost:8080/"
        },
        "id": "yO20apjK16ln",
        "outputId": "619c6b5a-0f03-4852-f79c-7aaedfdef7a1"
      },
      "source": [
        "g.add_node(data = dict(weight = 5, cats = 4), at_index = 4)"
      ],
      "execution_count": 10,
      "outputs": [
        {
          "output_type": "execute_result",
          "data": {
            "text/plain": [
              "4"
            ]
          },
          "metadata": {
            "tags": []
          },
          "execution_count": 10
        }
      ]
    },
    {
      "cell_type": "code",
      "metadata": {
        "colab": {
          "base_uri": "https://localhost:8080/"
        },
        "id": "SGu5Tf7U08n9",
        "outputId": "49c8d96e-8e62-4c34-b50b-b5715be42c1b"
      },
      "source": [
        "# add multiple nodes at particular indexes: only free indexes are used\n",
        "g.insert_nodes(data = ['A_9', \"A_8\", \"Book 7\", \"Pamphlet 6\", \"Magazine 5\"], at_indexes = (1,2,9,11,5))"
      ],
      "execution_count": 11,
      "outputs": [
        {
          "output_type": "stream",
          "text": [
            "Node index (1) is occupied by (a node containing) the following data: {'weight': 3, 'activation': 1}.\n",
            "Node index (2) is occupied by (a node containing) the following data: {'weight': 5, 'activation': 4}.\n"
          ],
          "name": "stdout"
        },
        {
          "output_type": "execute_result",
          "data": {
            "text/plain": [
              "[1, 2, 9, 11, 5]"
            ]
          },
          "metadata": {
            "tags": []
          },
          "execution_count": 11
        }
      ]
    },
    {
      "cell_type": "markdown",
      "metadata": {
        "id": "RMJlm_0I2Xwq"
      },
      "source": [
        "EDGES"
      ]
    },
    {
      "cell_type": "code",
      "metadata": {
        "id": "6Z-kcaTcIEqR",
        "colab": {
          "base_uri": "https://localhost:8080/"
        },
        "outputId": "1a804d25-5ed9-43c4-ed52-1513dab25e4c"
      },
      "source": [
        "# add edge between certain nodes\n",
        "g.insert_edge(2, 2, data = \"Alice\")"
      ],
      "execution_count": 12,
      "outputs": [
        {
          "output_type": "execute_result",
          "data": {
            "text/plain": [
              "1"
            ]
          },
          "metadata": {
            "tags": []
          },
          "execution_count": 12
        }
      ]
    },
    {
      "cell_type": "code",
      "metadata": {
        "colab": {
          "base_uri": "https://localhost:8080/"
        },
        "id": "oC01ndcw2xz5",
        "outputId": "b1dd14d5-6c72-4aa0-c8c0-8b7857282d91"
      },
      "source": [
        "# retrieve the edge, with its data\n",
        "g.get_edge_between(2, 2, data = True)"
      ],
      "execution_count": 13,
      "outputs": [
        {
          "output_type": "execute_result",
          "data": {
            "text/plain": [
              "(1, 'Alice')"
            ]
          },
          "metadata": {
            "tags": []
          },
          "execution_count": 13
        }
      ]
    },
    {
      "cell_type": "code",
      "metadata": {
        "colab": {
          "base_uri": "https://localhost:8080/"
        },
        "id": "B_sa7Nq12kSR",
        "outputId": "988ae8f8-8ecf-4bd6-af0b-34935908991c"
      },
      "source": [
        "# trying to add an edge where it already existed (for now edges don't have a multiplicity)\n",
        "g.insert_edge(2, 2, data = \"Bob\")\n",
        "g.get_edge_between(2, 2, data = True)"
      ],
      "execution_count": 14,
      "outputs": [
        {
          "output_type": "stream",
          "text": [
            "An index exists (1) for an edge between 2 and 2.\n",
            "Edge data updated.\n"
          ],
          "name": "stdout"
        },
        {
          "output_type": "execute_result",
          "data": {
            "text/plain": [
              "(1, 'Bob')"
            ]
          },
          "metadata": {
            "tags": []
          },
          "execution_count": 14
        }
      ]
    },
    {
      "cell_type": "code",
      "metadata": {
        "colab": {
          "base_uri": "https://localhost:8080/"
        },
        "id": "R9nA0nfx-3ix",
        "outputId": "0a13bb21-7c83-42d9-9a8c-479687d37b74"
      },
      "source": [
        "g.insert_edge(1, 2, \"1 -> 2\")"
      ],
      "execution_count": 15,
      "outputs": [
        {
          "output_type": "execute_result",
          "data": {
            "text/plain": [
              "2"
            ]
          },
          "metadata": {
            "tags": []
          },
          "execution_count": 15
        }
      ]
    },
    {
      "cell_type": "code",
      "metadata": {
        "colab": {
          "base_uri": "https://localhost:8080/"
        },
        "id": "Ke4zLprcHUbe",
        "outputId": "b54bdea6-591e-4dc6-e041-442a9df08a99"
      },
      "source": [
        "# the graph is unordered\n",
        "g.insert_edge(2, 1, \"1 -> 2\")"
      ],
      "execution_count": 16,
      "outputs": [
        {
          "output_type": "stream",
          "text": [
            "An index exists (2) for an edge between 2 and 1.\n",
            "Edge data updated.\n"
          ],
          "name": "stdout"
        },
        {
          "output_type": "execute_result",
          "data": {
            "text/plain": [
              "2"
            ]
          },
          "metadata": {
            "tags": []
          },
          "execution_count": 16
        }
      ]
    },
    {
      "cell_type": "markdown",
      "metadata": {
        "id": "8OkR4CutJpPB"
      },
      "source": [
        "EXPLORE"
      ]
    },
    {
      "cell_type": "code",
      "metadata": {
        "colab": {
          "base_uri": "https://localhost:8080/"
        },
        "id": "Lwas4RgnFwy8",
        "outputId": "fb12bfac-0583-4612-8c76-e70907a0cc3c"
      },
      "source": [
        "# List all elements\n",
        "g.list_elements()"
      ],
      "execution_count": 17,
      "outputs": [
        {
          "output_type": "stream",
          "text": [
            "#############\n",
            "## 8 NODES ##\n",
            "#############\n",
            "\n",
            "Index     Neighbors      Data                \n",
            "1         [2]            {'weight': 3, 'activation': 1}\n",
            "6         []             {'weight': 3, 'activation': 9}\n",
            "2         [1, 2]         {'weight': 5, 'activation': 4}\n",
            "3         []             None                \n",
            "4         []             {'weight': 5, 'cats': 4}\n",
            "9         []             Book 7              \n",
            "11        []             Pamphlet 6          \n",
            "5         []             Magazine 5          \n",
            "\n",
            "#############\n",
            "## 2 EDGES ##\n",
            "#############\n",
            "\n",
            "Index     Neighbors      Data                \n",
            "1         [2]            Bob                 \n",
            "2         [1, 2]         1 -> 2              \n"
          ],
          "name": "stdout"
        }
      ]
    },
    {
      "cell_type": "code",
      "metadata": {
        "id": "i8dz_o6jg11e",
        "colab": {
          "base_uri": "https://localhost:8080/"
        },
        "outputId": "d4ad751f-35fa-4139-f269-14d1beb2871d"
      },
      "source": [
        "# or list just the nodes\n",
        "g.list_nodes()"
      ],
      "execution_count": 18,
      "outputs": [
        {
          "output_type": "stream",
          "text": [
            "#############\n",
            "## 8 NODES ##\n",
            "#############\n",
            "\n",
            "Index     Neighbors      Data                \n",
            "1         [2]            {'weight': 3, 'activation': 1}\n",
            "6         []             {'weight': 3, 'activation': 9}\n",
            "2         [1, 2]         {'weight': 5, 'activation': 4}\n",
            "3         []             None                \n",
            "4         []             {'weight': 5, 'cats': 4}\n",
            "9         []             Book 7              \n",
            "11        []             Pamphlet 6          \n",
            "5         []             Magazine 5          \n"
          ],
          "name": "stdout"
        }
      ]
    },
    {
      "cell_type": "code",
      "metadata": {
        "colab": {
          "base_uri": "https://localhost:8080/"
        },
        "id": "9Lnw6ojJIFDy",
        "outputId": "9a3250a0-7cc0-4462-9f58-a8dbd83eda69"
      },
      "source": [
        "# or just the edges (1 neighbor means it is a loop)\n",
        "g.list_edges()"
      ],
      "execution_count": 19,
      "outputs": [
        {
          "output_type": "stream",
          "text": [
            "#############\n",
            "## 2 EDGES ##\n",
            "#############\n",
            "\n",
            "Index     Neighbors      Data                \n",
            "1         [2]            Bob                 \n",
            "2         [1, 2]         1 -> 2              \n"
          ],
          "name": "stdout"
        }
      ]
    }
  ]
}